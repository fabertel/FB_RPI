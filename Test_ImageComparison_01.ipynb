{
 "cells": [
  {
   "cell_type": "code",
   "execution_count": 9,
   "metadata": {},
   "outputs": [
    {
     "name": "stdout",
     "output_type": "stream",
     "text": [
      "C:\\Users\\FabioPC\n"
     ]
    }
   ],
   "source": [
    "import os\n",
    "cwd = os.getcwd()\n",
    "print (cwd)"
   ]
  },
  {
   "cell_type": "code",
   "execution_count": 43,
   "metadata": {},
   "outputs": [],
   "source": [
    "from PIL import Image\n",
    "im = Image.open(\"tmp.jpg\")\n",
    "im=im.convert('L') #greyscale \n",
    "im.rotate(45).show()"
   ]
  },
  {
   "cell_type": "code",
   "execution_count": 46,
   "metadata": {},
   "outputs": [],
   "source": [
    "#qui sono diverse ! \n",
    "\n",
    "from PIL import Image\n",
    "from PIL import ImageChops\n",
    "\n",
    "im1 = Image.open(\"A (1).jpg\").convert('L')\n",
    "im2 = Image.open(\"A (2).jpg\").convert('L')\n",
    "\n",
    "diff = ImageChops.difference(im2, im1)\n",
    "diff.show()\n",
    "\n"
   ]
  },
  {
   "cell_type": "code",
   "execution_count": 154,
   "metadata": {},
   "outputs": [
    {
     "name": "stdout",
     "output_type": "stream",
     "text": [
      "722055\n",
      "diverse\n"
     ]
    }
   ],
   "source": [
    "import numpy as np\n",
    "from PIL import Image, ImageChops\n",
    "\n",
    "\n",
    "def diff_images():\n",
    "    im1 = Image.open(\"E (8).jpg\").convert('L')\n",
    "    im2 = Image.open(\"E (9).jpg\").convert('L')\n",
    "\n",
    "    diff = ImageChops.difference(im2,im1)\n",
    "    diffdata = np.asarray( diff, dtype=\"int32\" ) \n",
    "    print(diffdata.sum())\n",
    "    if diffdata.sum()>50000: \n",
    "        print('diverse')\n",
    "    else:\n",
    "        print('uguali')\n",
    "   \n",
    "if __name__ == '__main__' :\n",
    "    diff_images()\n"
   ]
  },
  {
   "cell_type": "code",
   "execution_count": 174,
   "metadata": {},
   "outputs": [
    {
     "name": "stdout",
     "output_type": "stream",
     "text": [
      "4352256\n",
      "diverse\n"
     ]
    }
   ],
   "source": [
    "import numpy as np\n",
    "from PIL import Image, ImageChops\n",
    "\n",
    "im1 = Image.open(\"U (1).jpg\").convert('L')\n",
    "im2 = Image.open(\"U.jpg\").convert('L')\n",
    "\n",
    "diff = ImageChops.difference(im2,im1)\n",
    "diffdata = np.asarray( diff, dtype=\"int32\" ) \n",
    "print(diffdata.sum())\n",
    "if diffdata.sum()>50000: \n",
    "    print('diverse')\n",
    "else:\n",
    "    print('uguali')\n",
    "   \n",
    "\n"
   ]
  },
  {
   "cell_type": "code",
   "execution_count": null,
   "metadata": {
    "collapsed": true
   },
   "outputs": [],
   "source": [
    "    \"\"\"\n",
    "    diff.show()\n",
    "       \n",
    "    diff12 = ImageChops.subtract(im1,im2)\n",
    "    diff21 = ImageChops.subtract(im2,im1)\n",
    "    diff12.save(\"diff12.jpg\")\n",
    "    diff21.save(\"diff21.jpg\")\n",
    "    diff.save(\"diff.jpg\")\n",
    "\n",
    "    im2data = np.asarray( im2, dtype=\"int32\" )\n",
    "    im1data = np.asarray( im1, dtype=\"int32\" )\n",
    "    print(im1data.sum()) \n",
    "    print(im2data.sum()) \n",
    "    diff12data = np.asarray( diff12, dtype=\"int32\" )\n",
    "    diff21data = np.asarray( diff21, dtype=\"int32\" )\n",
    "    print(diff12data.sum())\n",
    "    print(diff21data.sum())\n",
    "\n",
    "     diffdata è la somma esatta degli altri due\n",
    "     una immagina normale ha una somma di circa 50034162 \n",
    "     la diff fra due immagini uguali è zero \n",
    "     qualche differenze è 797040\n",
    "\"\"\"\n",
    "    \n"
   ]
  },
  {
   "cell_type": "code",
   "execution_count": 164,
   "metadata": {},
   "outputs": [],
   "source": [
    "import numpy as np\n",
    "from PIL import Image, ImageChops\n",
    "image = Image.new('RGB', (640, 480), (255, 255, 255))\n",
    "image.save(\"image.png\", \"PNG\")\n",
    "\n"
   ]
  },
  {
   "cell_type": "code",
   "execution_count": 170,
   "metadata": {},
   "outputs": [],
   "source": [
    "import numpy as np\n",
    "from PIL import Image, ImageChops\n",
    "image = Image.new('RGB', (640, 480), (255, 255, 255))\n",
    "previousphotoname = \"comparison.png\"\n",
    "image.save(previousphotoname, \"PNG\")\n",
    "previousphoto = Image.open(\"comparison.png\").convert('L')"
   ]
  }
 ],
 "metadata": {
  "kernelspec": {
   "display_name": "Python 3",
   "language": "python",
   "name": "python3"
  },
  "language_info": {
   "codemirror_mode": {
    "name": "ipython",
    "version": 3
   },
   "file_extension": ".py",
   "mimetype": "text/x-python",
   "name": "python",
   "nbconvert_exporter": "python",
   "pygments_lexer": "ipython3",
   "version": "3.6.2"
  }
 },
 "nbformat": 4,
 "nbformat_minor": 2
}
